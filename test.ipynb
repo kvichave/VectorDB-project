{
 "cells": [
  {
   "cell_type": "code",
   "execution_count": 97,
   "id": "56d5d5cb",
   "metadata": {},
   "outputs": [],
   "source": [
    "import openai\n",
    "import langchain\n",
    "import pinecone \n",
    "from langchain.document_loaders import PyPDFDirectoryLoader\n",
    "from langchain.text_splitter import RecursiveCharacterTextSplitter\n",
    "from langchain_pinecone import PineconeVectorStore\n",
    "from langchain.chat_models import ChatOpenAI\n",
    "from langchain.embeddings import HuggingFaceEmbeddings\n",
    "\n",
    "from dotenv import load_dotenv\n",
    "load_dotenv()\n",
    "import os\n"
   ]
  },
  {
   "cell_type": "code",
   "execution_count": 28,
   "id": "c63e13ad",
   "metadata": {},
   "outputs": [],
   "source": [
    "#lest read the documents\n",
    "def read_doc(directory):\n",
    "    file_loader=PyPDFDirectoryLoader(directory)\n",
    "    documents=file_loader.load()\n",
    "    return documents"
   ]
  },
  {
   "cell_type": "code",
   "execution_count": 78,
   "id": "5d90d8fb",
   "metadata": {},
   "outputs": [
    {
     "data": {
      "text/plain": [
       "1"
      ]
     },
     "execution_count": 78,
     "metadata": {},
     "output_type": "execute_result"
    }
   ],
   "source": [
    "doc=read_doc(\"docs/\")\n",
    "len(doc)"
   ]
  },
  {
   "cell_type": "code",
   "execution_count": 79,
   "id": "dcd9a315",
   "metadata": {},
   "outputs": [],
   "source": [
    "#div the docs into chunks\n",
    "def chunk_data(docs,chunk_size=800,chunk_overlap=50):\n",
    "    text_splitter=RecursiveCharacterTextSplitter(chunk_size=chunk_size,chunk_overlap=chunk_overlap)\n",
    "    docs=text_splitter.split_documents(docs)\n",
    "    return docs"
   ]
  },
  {
   "cell_type": "code",
   "execution_count": 81,
   "id": "4dbe8858",
   "metadata": {},
   "outputs": [
    {
     "data": {
      "text/plain": [
       "[Document(metadata={'producer': 'Skia/PDF m136', 'creator': 'Mozilla/5.0 (X11; Linux x86_64) AppleWebKit/537.36 (KHTML, like Gecko) Chrome/136.0.0.0 Safari/537.36', 'creationdate': '2025-06-27T07:36:45+00:00', 'title': 'New_Resume', 'moddate': '2025-06-27T07:36:45+00:00', 'source': 'docs/Resume.pdf', 'total_pages': 1, 'page': 0, 'page_label': '1'}, page_content='Kunal Vichave\\nComputer Engineer\\n (+91) 7387961727  kunalvichave258@gmail.com  kvichave  LinkedIn 17/10/2003\\nSkills\\nProgramming Languages: Python, JavaScript, HTML, CSS\\nFrameworks & Libraries: Flask, Django, React, Next.js, Tailwind CSS\\nAI/ML & GenAI: FineTuning, HuggingFace, LangChain, LLMs, RAG, Pandas, NumPy\\nWeb Technologies: Jinja, AJAX, Jsx\\nData Visualization: Plotly, Chart.js, Matplotlib, Seaborn\\nDatabases: MySQL, SQLite3, MongoDB\\nTools & Platforms: Git, Docker (learning), Selenium, BeautifulSoup, Heroku, Render, AWS\\nEducation\\nLokmanya Tilak College of Engineering\\n\\xa0\\xa0\\xa0\\xa0\\xa0- B.E in CSE (AIML), Kopar Khairane, Navi Mumbai\\n2022 - 2025\\nCGPA: 8.2/10\\nS.H. Jondhale Polytechnic\\n\\xa0\\xa0\\xa0\\xa0\\xa0- Diploma in Computer Engineering, Dombivli\\n2019 - 2022\\nPercentage: 85.54%\\nExperience'),\n",
       " Document(metadata={'producer': 'Skia/PDF m136', 'creator': 'Mozilla/5.0 (X11; Linux x86_64) AppleWebKit/537.36 (KHTML, like Gecko) Chrome/136.0.0.0 Safari/537.36', 'creationdate': '2025-06-27T07:36:45+00:00', 'title': 'New_Resume', 'moddate': '2025-06-27T07:36:45+00:00', 'source': 'docs/Resume.pdf', 'total_pages': 1, 'page': 0, 'page_label': '1'}, page_content='2019 - 2022\\nPercentage: 85.54%\\nExperience\\nFreelancing - So\\ue117ware Developer 2024 - Present\\nDeveloped an gym website featuring subscription purchase and management\\nBuilt a responsive product catalog page for an e-commerce client using React and API integration\\nLed deployment and hosting of applications on git, docker and AWS\\nYBI Foundation (Remote) - Machine Learning Intern 06/2024 - 07/2024\\nBuilt a regression-based ML model to predict home values\\nWorked on data preprocessing, model evaluation, and performance improvement using Scikit-learn\\nProjects\\nSocioFy - GitHub\\n\\xa0\\xa0\\xa0\\xa0\\xa0- Developed a social media analytics tool using Django, TensorFlow, and Plotly\\n\\xa0\\xa0\\xa0\\xa0\\xa0- Integrated Facebook Graph API and sentiment analysis on Instagram comments\\n02/2024 – 05/2024\\nDocBerg - GitHub'),\n",
       " Document(metadata={'producer': 'Skia/PDF m136', 'creator': 'Mozilla/5.0 (X11; Linux x86_64) AppleWebKit/537.36 (KHTML, like Gecko) Chrome/136.0.0.0 Safari/537.36', 'creationdate': '2025-06-27T07:36:45+00:00', 'title': 'New_Resume', 'moddate': '2025-06-27T07:36:45+00:00', 'source': 'docs/Resume.pdf', 'total_pages': 1, 'page': 0, 'page_label': '1'}, page_content='02/2024 – 05/2024\\nDocBerg - GitHub\\n\\xa0\\xa0\\xa0\\xa0\\xa0- Created a resume analyzer, image-to-text extractor, and document converter\\n\\xa0\\xa0\\xa0\\xa0\\xa0- Built using Flask, Tailwind CSS, JavaScript, TensorFlow, and OCR\\n07/2023 – 11/2023\\nCogtnitiveBerg - GitHub\\n\\xa0\\xa0\\xa0\\xa0\\xa0- AI interview and business meeting simulator using Llama API and Chart.js\\n\\xa0\\xa0\\xa0\\xa0\\xa0- Built in Flask + React + Next.js for frontend and backend integration\\n07/2024 – 04/2025\\nMedLLaMA Finetune - GitHub\\n\\xa0\\xa0\\xa0\\xa0\\xa0- Fine-tuned LLaMA on a medical dataset for domain-speciﬁc question answering\\n\\xa0\\xa0\\xa0\\xa0\\xa0- Used Python, Transformers, PEFT, LoRA, Hugging Face, and PyTorch for eﬃcient training\\n06/2025 – 06/2025\\nAwards and Achievements\\n2nd Place, LTCE AIML Department Hackathon 04/2025\\n3rd Place, ML Quest Hackathon, GHRCE Nagpur 07/2024')]"
      ]
     },
     "execution_count": 81,
     "metadata": {},
     "output_type": "execute_result"
    }
   ],
   "source": [
    "documents=chunk_data(docs=doc)\n",
    "documents"
   ]
  },
  {
   "cell_type": "code",
   "execution_count": null,
   "id": "db47fce9",
   "metadata": {},
   "outputs": [
    {
     "ename": "NameError",
     "evalue": "name 'docs' is not defined",
     "output_type": "error",
     "traceback": [
      "\u001b[31m---------------------------------------------------------------------------\u001b[39m",
      "\u001b[31mNameError\u001b[39m                                 Traceback (most recent call last)",
      "\u001b[36mCell\u001b[39m\u001b[36m \u001b[39m\u001b[32mIn[83]\u001b[39m\u001b[32m, line 1\u001b[39m\n\u001b[32m----> \u001b[39m\u001b[32m1\u001b[39m \u001b[43mdocs\u001b[49m\n",
      "\u001b[31mNameError\u001b[39m: name 'docs' is not defined"
     ]
    }
   ],
   "source": []
  },
  {
   "cell_type": "code",
   "execution_count": 32,
   "id": "88e86a94",
   "metadata": {},
   "outputs": [],
   "source": [
    "embeddings=HuggingFaceEmbeddings(model_name=\"sentence-transformers/all-MiniLM-L6-v2\")"
   ]
  },
  {
   "cell_type": "code",
   "execution_count": 33,
   "id": "d535d96a",
   "metadata": {},
   "outputs": [],
   "source": [
    "vectors=embeddings.embed_query(\"how are you\")"
   ]
  },
  {
   "cell_type": "code",
   "execution_count": 34,
   "id": "ce1921cf",
   "metadata": {},
   "outputs": [
    {
     "data": {
      "text/plain": [
       "384"
      ]
     },
     "execution_count": 34,
     "metadata": {},
     "output_type": "execute_result"
    }
   ],
   "source": [
    "len(vectors)"
   ]
  },
  {
   "cell_type": "code",
   "execution_count": 48,
   "id": "c2540b87",
   "metadata": {},
   "outputs": [],
   "source": [
    "os.environ[\"PINECONE_API_KEY\"]=os.getenv(\"PINECONE_API\")"
   ]
  },
  {
   "cell_type": "code",
   "execution_count": 66,
   "id": "e7b7c0d8",
   "metadata": {},
   "outputs": [],
   "source": [
    "pc=pinecone.Pinecone(\n",
    "    api_key=os.getenv(\"PINECONE_API\"),\n",
    "    environment=\"us-east-1\"\n",
    ")\n",
    "index_name=\"pdfchat\"\n"
   ]
  },
  {
   "cell_type": "code",
   "execution_count": 84,
   "id": "f2d2902b",
   "metadata": {},
   "outputs": [],
   "source": [
    "index=PineconeVectorStore.from_documents(documents,embeddings,index_name=index_name)"
   ]
  },
  {
   "cell_type": "code",
   "execution_count": null,
   "id": "8b3f71c1",
   "metadata": {},
   "outputs": [],
   "source": [
    "# Cosine Similarity: retrive results from VectorDB\n",
    "\n",
    "def retrive_query(query,k=2):\n",
    "    matching_results=index.similarity_search(query,k=k)\n",
    "    return matching_results"
   ]
  },
  {
   "cell_type": "code",
   "execution_count": 74,
   "id": "5038b69b",
   "metadata": {},
   "outputs": [],
   "source": [
    "from langchain.chains.question_answering import load_qa_chain\n",
    "from langchain.llms import OpenAI"
   ]
  },
  {
   "cell_type": "code",
   "execution_count": 77,
   "id": "dfe36292",
   "metadata": {},
   "outputs": [
    {
     "data": {
      "text/plain": [
       "[Document(metadata={'producer': 'Skia/PDF m136', 'creator': 'Mozilla/5.0 (X11; Linux x86_64) AppleWebKit/537.36 (KHTML, like Gecko) Chrome/136.0.0.0 Safari/537.36', 'creationdate': '2025-06-27T07:36:45+00:00', 'title': 'New_Resume', 'moddate': '2025-06-27T07:36:45+00:00', 'source': 'docs/Resume.pdf', 'total_pages': 1, 'page': 0, 'page_label': '1', 'text': 'Kunal Vichave\\nComputer Engineer\\n (+91) 7387961727  kunalvichave258@gmail.com  kvichave  LinkedIn 17/10/2003\\nSkills\\nProgramming Languages: Python, JavaScript, HTML, CSS\\nFrameworks & Libraries: Flask, Django, React, Next.js, Tailwind CSS\\nAI/ML & GenAI: FineTuning, HuggingFace, LangChain, LLMs, RAG, Pandas, NumPy\\nWeb Technologies: Jinja, AJAX, Jsx\\nData Visualization: Plotly, Chart.js, Matplotlib, Seaborn\\nDatabases: MySQL, SQLite3, MongoDB\\nTools & Platforms: Git, Docker (learning), Selenium, BeautifulSoup, Heroku, Render, AWS\\nEducation\\nLokmanya Tilak College of Engineering\\n\\xa0\\xa0\\xa0\\xa0\\xa0- B.E in CSE (AIML), Kopar Khairane, Navi Mumbai\\n2022 - 2025\\nCGPA: 8.2/10\\nS.H. Jondhale Polytechnic\\n\\xa0\\xa0\\xa0\\xa0\\xa0- Diploma in Computer Engineering, Dombivli\\n2019 - 2022\\nPercentage: 85.54%\\nExperience'}, page_content='Kunal Vichave\\nComputer Engineer\\n (+91) 7387961727  kunalvichave258@gmail.com  kvichave  LinkedIn 17/10/2003\\nSkills\\nProgramming Languages: Python, JavaScript, HTML, CSS\\nFrameworks & Libraries: Flask, Django, React, Next.js, Tailwind CSS\\nAI/ML & GenAI: FineTuning, HuggingFace, LangChain, LLMs, RAG, Pandas, NumPy\\nWeb Technologies: Jinja, AJAX, Jsx\\nData Visualization: Plotly, Chart.js, Matplotlib, Seaborn\\nDatabases: MySQL, SQLite3, MongoDB\\nTools & Platforms: Git, Docker (learning), Selenium, BeautifulSoup, Heroku, Render, AWS\\nEducation\\nLokmanya Tilak College of Engineering\\n\\xa0\\xa0\\xa0\\xa0\\xa0- B.E in CSE (AIML), Kopar Khairane, Navi Mumbai\\n2022 - 2025\\nCGPA: 8.2/10\\nS.H. Jondhale Polytechnic\\n\\xa0\\xa0\\xa0\\xa0\\xa0- Diploma in Computer Engineering, Dombivli\\n2019 - 2022\\nPercentage: 85.54%\\nExperience'),\n",
       " Document(metadata={'producer': 'Skia/PDF m136', 'creator': 'Mozilla/5.0 (X11; Linux x86_64) AppleWebKit/537.36 (KHTML, like Gecko) Chrome/136.0.0.0 Safari/537.36', 'creationdate': '2025-06-27T07:36:45+00:00', 'title': 'New_Resume', 'moddate': '2025-06-27T07:36:45+00:00', 'source': 'docs/Resume.pdf', 'total_pages': 1, 'page': 0, 'page_label': '1', 'text': '2019 - 2022\\nPercentage: 85.54%\\nExperience\\nFreelancing - So\\ue117ware Developer 2024 - Present\\nDeveloped an gym website featuring subscription purchase and management\\nBuilt a responsive product catalog page for an e-commerce client using React and API integration\\nLed deployment and hosting of applications on git, docker and AWS\\nYBI Foundation (Remote) - Machine Learning Intern 06/2024 - 07/2024\\nBuilt a regression-based ML model to predict home values\\nWorked on data preprocessing, model evaluation, and performance improvement using Scikit-learn\\nProjects\\nSocioFy - GitHub\\n\\xa0\\xa0\\xa0\\xa0\\xa0- Developed a social media analytics tool using Django, TensorFlow, and Plotly\\n\\xa0\\xa0\\xa0\\xa0\\xa0- Integrated Facebook Graph API and sentiment analysis on Instagram comments\\n02/2024 – 05/2024\\nDocBerg - GitHub'}, page_content='2019 - 2022\\nPercentage: 85.54%\\nExperience\\nFreelancing - So\\ue117ware Developer 2024 - Present\\nDeveloped an gym website featuring subscription purchase and management\\nBuilt a responsive product catalog page for an e-commerce client using React and API integration\\nLed deployment and hosting of applications on git, docker and AWS\\nYBI Foundation (Remote) - Machine Learning Intern 06/2024 - 07/2024\\nBuilt a regression-based ML model to predict home values\\nWorked on data preprocessing, model evaluation, and performance improvement using Scikit-learn\\nProjects\\nSocioFy - GitHub\\n\\xa0\\xa0\\xa0\\xa0\\xa0- Developed a social media analytics tool using Django, TensorFlow, and Plotly\\n\\xa0\\xa0\\xa0\\xa0\\xa0- Integrated Facebook Graph API and sentiment analysis on Instagram comments\\n02/2024 – 05/2024\\nDocBerg - GitHub'),\n",
       " Document(metadata={'producer': 'Skia/PDF m136', 'creator': 'Mozilla/5.0 (X11; Linux x86_64) AppleWebKit/537.36 (KHTML, like Gecko) Chrome/136.0.0.0 Safari/537.36', 'creationdate': '2025-06-27T07:36:45+00:00', 'title': 'New_Resume', 'moddate': '2025-06-27T07:36:45+00:00', 'source': 'docs/Resume.pdf', 'total_pages': 1, 'page': 0, 'page_label': '1', 'text': '02/2024 – 05/2024\\nDocBerg - GitHub\\n\\xa0\\xa0\\xa0\\xa0\\xa0- Created a resume analyzer, image-to-text extractor, and document converter\\n\\xa0\\xa0\\xa0\\xa0\\xa0- Built using Flask, Tailwind CSS, JavaScript, TensorFlow, and OCR\\n07/2023 – 11/2023\\nCogtnitiveBerg - GitHub\\n\\xa0\\xa0\\xa0\\xa0\\xa0- AI interview and business meeting simulator using Llama API and Chart.js\\n\\xa0\\xa0\\xa0\\xa0\\xa0- Built in Flask + React + Next.js for frontend and backend integration\\n07/2024 – 04/2025\\nMedLLaMA Finetune - GitHub\\n\\xa0\\xa0\\xa0\\xa0\\xa0- Fine-tuned LLaMA on a medical dataset for domain-speciﬁc question answering\\n\\xa0\\xa0\\xa0\\xa0\\xa0- Used Python, Transformers, PEFT, LoRA, Hugging Face, and PyTorch for eﬃcient training\\n06/2025 – 06/2025\\nAwards and Achievements\\n2nd Place, LTCE AIML Department Hackathon 04/2025\\n3rd Place, ML Quest Hackathon, GHRCE Nagpur 07/2024'}, page_content='02/2024 – 05/2024\\nDocBerg - GitHub\\n\\xa0\\xa0\\xa0\\xa0\\xa0- Created a resume analyzer, image-to-text extractor, and document converter\\n\\xa0\\xa0\\xa0\\xa0\\xa0- Built using Flask, Tailwind CSS, JavaScript, TensorFlow, and OCR\\n07/2023 – 11/2023\\nCogtnitiveBerg - GitHub\\n\\xa0\\xa0\\xa0\\xa0\\xa0- AI interview and business meeting simulator using Llama API and Chart.js\\n\\xa0\\xa0\\xa0\\xa0\\xa0- Built in Flask + React + Next.js for frontend and backend integration\\n07/2024 – 04/2025\\nMedLLaMA Finetune - GitHub\\n\\xa0\\xa0\\xa0\\xa0\\xa0- Fine-tuned LLaMA on a medical dataset for domain-speciﬁc question answering\\n\\xa0\\xa0\\xa0\\xa0\\xa0- Used Python, Transformers, PEFT, LoRA, Hugging Face, and PyTorch for eﬃcient training\\n06/2025 – 06/2025\\nAwards and Achievements\\n2nd Place, LTCE AIML Department Hackathon 04/2025\\n3rd Place, ML Quest Hackathon, GHRCE Nagpur 07/2024')]"
      ]
     },
     "execution_count": 77,
     "metadata": {},
     "output_type": "execute_result"
    }
   ],
   "source": [
    "doc"
   ]
  },
  {
   "cell_type": "code",
   "execution_count": 98,
   "id": "03db187a",
   "metadata": {},
   "outputs": [
    {
     "name": "stderr",
     "output_type": "stream",
     "text": [
      "/tmp/ipykernel_15776/2501683582.py:1: LangChainDeprecationWarning: The class `ChatOpenAI` was deprecated in LangChain 0.0.10 and will be removed in 1.0. An updated version of the class exists in the :class:`~langchain-openai package and should be used instead. To use it run `pip install -U :class:`~langchain-openai` and import as `from :class:`~langchain_openai import ChatOpenAI``.\n",
      "  llm=ChatOpenAI(api_key=os.getenv(\"OPENAI_API_KEY\"),base_url=os.getenv(\"OPENAI_API_BASE\"),\n"
     ]
    }
   ],
   "source": [
    "llm=ChatOpenAI(api_key=os.getenv(\"OPENAI_API_KEY\"),base_url=os.getenv(\"OPENAI_API_BASE\"),\n",
    "     model_name=\"sarvamai/sarvam-m:free\",\n",
    "    temperature=0.7)\n",
    "chain=load_qa_chain(llm,chain_type=\"stuff\")"
   ]
  },
  {
   "cell_type": "code",
   "execution_count": 99,
   "id": "1f44d757",
   "metadata": {},
   "outputs": [
    {
     "name": "stderr",
     "output_type": "stream",
     "text": [
      "/tmp/ipykernel_15776/2891788140.py:1: LangChainDeprecationWarning: The method `BaseChatModel.predict` was deprecated in langchain-core 0.1.7 and will be removed in 1.0. Use :meth:`~invoke` instead.\n",
      "  llm.predict(\"What is the capital of France?\")\n"
     ]
    },
    {
     "data": {
      "text/plain": [
       "'Okay, the user is asking, \"What is the capital of France?\" Let me start by recalling basic geography. France is a European country, and I remember that Paris is commonly referred to as its capital. But wait, I should double-check to be sure. Sometimes people confuse capitals with other major cities. For example, some countries have capitals that aren\\'t the largest cities. But in France\\'s case, Paris is both the capital and the largest city. Let me think if there\\'s any chance it\\'s another city. Maybe Lyon or Marseille? No, I\\'m pretty confident it\\'s Paris. To confirm, I can recall historical facts. The Eiffel Tower is in Paris, and major events like the Paris Olympics are held there. Also, government buildings like the Louvre and the Palais de Versailles are in Paris. Yeah, definitely Paris. I don\\'t think there\\'s been a change recently. So the answer should be Paris.\\n</think>\\n\\nThe capital of France is **Paris**.'"
      ]
     },
     "execution_count": 99,
     "metadata": {},
     "output_type": "execute_result"
    }
   ],
   "source": [
    "llm.predict(\"What is the capital of France?\")"
   ]
  },
  {
   "cell_type": "code",
   "execution_count": 100,
   "id": "ebe4a216",
   "metadata": {},
   "outputs": [],
   "source": [
    "# Search answers from VectorDB\n",
    "\n",
    "def retrive_answer(query):\n",
    "    doc_search=retrive_query(query)\n",
    "    print(doc_search)\n",
    "    response=chain.run(input_documents=doc_search,question=query)\n",
    "    return response\n"
   ]
  },
  {
   "cell_type": "code",
   "execution_count": 101,
   "id": "5eba0107",
   "metadata": {},
   "outputs": [
    {
     "name": "stdout",
     "output_type": "stream",
     "text": [
      "[Document(id='d6f14ad0-c4e4-4854-8d17-db0efe8d36cb', metadata={'creationdate': '2025-06-27T07:36:45+00:00', 'creator': 'Mozilla/5.0 (X11; Linux x86_64) AppleWebKit/537.36 (KHTML, like Gecko) Chrome/136.0.0.0 Safari/537.36', 'moddate': '2025-06-27T07:36:45+00:00', 'page': 0.0, 'page_label': '1', 'producer': 'Skia/PDF m136', 'source': 'docs/Resume.pdf', 'title': 'New_Resume', 'total_pages': 1.0}, page_content='02/2024 – 05/2024\\nDocBerg - GitHub\\n\\xa0\\xa0\\xa0\\xa0\\xa0- Created a resume analyzer, image-to-text extractor, and document converter\\n\\xa0\\xa0\\xa0\\xa0\\xa0- Built using Flask, Tailwind CSS, JavaScript, TensorFlow, and OCR\\n07/2023 – 11/2023\\nCogtnitiveBerg - GitHub\\n\\xa0\\xa0\\xa0\\xa0\\xa0- AI interview and business meeting simulator using Llama API and Chart.js\\n\\xa0\\xa0\\xa0\\xa0\\xa0- Built in Flask + React + Next.js for frontend and backend integration\\n07/2024 – 04/2025\\nMedLLaMA Finetune - GitHub\\n\\xa0\\xa0\\xa0\\xa0\\xa0- Fine-tuned LLaMA on a medical dataset for domain-speciﬁc question answering\\n\\xa0\\xa0\\xa0\\xa0\\xa0- Used Python, Transformers, PEFT, LoRA, Hugging Face, and PyTorch for eﬃcient training\\n06/2025 – 06/2025\\nAwards and Achievements\\n2nd Place, LTCE AIML Department Hackathon 04/2025\\n3rd Place, ML Quest Hackathon, GHRCE Nagpur 07/2024'), Document(id='f1f640e4-2962-418a-a71a-ef108b143645', metadata={'creationdate': '2025-06-27T07:36:45+00:00', 'creator': 'Mozilla/5.0 (X11; Linux x86_64) AppleWebKit/537.36 (KHTML, like Gecko) Chrome/136.0.0.0 Safari/537.36', 'moddate': '2025-06-27T07:36:45+00:00', 'page': 0.0, 'page_label': '1', 'producer': 'Skia/PDF m136', 'source': 'docs/Resume.pdf', 'title': 'New_Resume', 'total_pages': 1.0}, page_content='Kunal Vichave\\nComputer Engineer\\n (+91) 7387961727  kunalvichave258@gmail.com  kvichave  LinkedIn 17/10/2003\\nSkills\\nProgramming Languages: Python, JavaScript, HTML, CSS\\nFrameworks & Libraries: Flask, Django, React, Next.js, Tailwind CSS\\nAI/ML & GenAI: FineTuning, HuggingFace, LangChain, LLMs, RAG, Pandas, NumPy\\nWeb Technologies: Jinja, AJAX, Jsx\\nData Visualization: Plotly, Chart.js, Matplotlib, Seaborn\\nDatabases: MySQL, SQLite3, MongoDB\\nTools & Platforms: Git, Docker (learning), Selenium, BeautifulSoup, Heroku, Render, AWS\\nEducation\\nLokmanya Tilak College of Engineering\\n\\xa0\\xa0\\xa0\\xa0\\xa0- B.E in CSE (AIML), Kopar Khairane, Navi Mumbai\\n2022 - 2025\\nCGPA: 8.2/10\\nS.H. Jondhale Polytechnic\\n\\xa0\\xa0\\xa0\\xa0\\xa0- Diploma in Computer Engineering, Dombivli\\n2019 - 2022\\nPercentage: 85.54%\\nExperience')]\n",
      "Okay, the user is asking, \"what is my name\". Let me check the context provided.\n",
      "\n",
      "Looking through the information, there's a section at the beginning with a name: Kunal Vichave. The resume details include his contact information, skills, education, and projects. The user might be referring to their own name, but since they provided this context about Kunal, maybe they want to confirm if their name is Kunal Vichave. However, the user's actual name isn't specified in the query. The context is about Kunal, so perhaps the user is Kunal and is testing if the assistant can extract their name from their own resume data. Alternatively, the user might be someone else asking about Kunal. Since the assistant is supposed to use the provided context, the answer would be Kunal Vichave. But the user's actual name isn't given in the query, so the assistant should answer based on the context provided, which is Kunal Vichave. The assistant should state that the name in the context is Kunal Vichave, but clarify that it's based on the provided data and not the user's actual name unless confirmed.\n",
      "</think>\n",
      "\n",
      "Your name is Kunal Vichave, as indicated in the contact information section of the provided context.\n"
     ]
    }
   ],
   "source": [
    "prompt=\"what is my name\"\n",
    "answer=retrive_answer(prompt)\n",
    "print(answer)"
   ]
  },
  {
   "cell_type": "code",
   "execution_count": null,
   "id": "a3e3640a",
   "metadata": {},
   "outputs": [],
   "source": []
  }
 ],
 "metadata": {
  "kernelspec": {
   "display_name": "venv",
   "language": "python",
   "name": "python3"
  },
  "language_info": {
   "codemirror_mode": {
    "name": "ipython",
    "version": 3
   },
   "file_extension": ".py",
   "mimetype": "text/x-python",
   "name": "python",
   "nbconvert_exporter": "python",
   "pygments_lexer": "ipython3",
   "version": "3.12.3"
  }
 },
 "nbformat": 4,
 "nbformat_minor": 5
}
